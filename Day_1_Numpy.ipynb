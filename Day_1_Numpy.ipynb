{
  "nbformat": 4,
  "nbformat_minor": 0,
  "metadata": {
    "colab": {
      "provenance": [],
      "authorship_tag": "ABX9TyPWEizmVsUFzxuEKOu/X+b6",
      "include_colab_link": true
    },
    "kernelspec": {
      "name": "python3",
      "display_name": "Python 3"
    },
    "language_info": {
      "name": "python"
    }
  },
  "cells": [
    {
      "cell_type": "markdown",
      "metadata": {
        "id": "view-in-github",
        "colab_type": "text"
      },
      "source": [
        "<a href=\"https://colab.research.google.com/github/HerilPatel/Machine_Learning/blob/main/Day_1_Numpy.ipynb\" target=\"_parent\"><img src=\"https://colab.research.google.com/assets/colab-badge.svg\" alt=\"Open In Colab\"/></a>"
      ]
    },
    {
      "cell_type": "code",
      "execution_count": 1,
      "metadata": {
        "id": "PjhgFUFenKP-"
      },
      "outputs": [],
      "source": [
        "import numpy as np"
      ]
    },
    {
      "cell_type": "code",
      "source": [
        "print(np.__version__)"
      ],
      "metadata": {
        "colab": {
          "base_uri": "https://localhost:8080/"
        },
        "id": "rK8sKI91pg18",
        "outputId": "c6476fd4-2a1f-4ab1-8af7-f39bd7806d0b"
      },
      "execution_count": 3,
      "outputs": [
        {
          "output_type": "stream",
          "name": "stdout",
          "text": [
            "1.22.4\n"
          ]
        }
      ]
    },
    {
      "cell_type": "code",
      "source": [
        "#Creating  Numpy Array/List\n",
        "\n",
        "arr_1 = np.array([1,2,3,4,5])\n",
        "print(arr_1)\n",
        "print(type(arr_1))"
      ],
      "metadata": {
        "colab": {
          "base_uri": "https://localhost:8080/"
        },
        "id": "gfy8bjVyprsd",
        "outputId": "d18ed378-3b19-434b-89dd-f165282f6b75"
      },
      "execution_count": 5,
      "outputs": [
        {
          "output_type": "stream",
          "name": "stdout",
          "text": [
            "[1 2 3 4 5]\n",
            "<class 'numpy.ndarray'>\n"
          ]
        }
      ]
    },
    {
      "cell_type": "code",
      "source": [
        "#Passing Tuple to Convert into array\n",
        "\n",
        "tpl = (1,2,3,4)\n",
        "arr_2 = np.array(tpl)\n",
        "print(arr_2)\n",
        "print(type(arr_2))"
      ],
      "metadata": {
        "colab": {
          "base_uri": "https://localhost:8080/"
        },
        "id": "OsMFgq4-qmrN",
        "outputId": "fdf27609-55f9-4ff0-c4e4-bfb051586414"
      },
      "execution_count": 7,
      "outputs": [
        {
          "output_type": "stream",
          "name": "stdout",
          "text": [
            "[1 2 3 4]\n",
            "<class 'numpy.ndarray'>\n"
          ]
        }
      ]
    },
    {
      "cell_type": "code",
      "source": [
        "#Dimentionality of the Array.\n",
        "\n",
        "d0 = np.array(1)\n",
        "d1 = np.array([1,2])\n",
        "d2 = np.array([[1,2],[3,4]])\n",
        "d3 = np.array([[[1,2,3]],[[4,5,6]],[[7,8,9]]])\n",
        "\n",
        "print(d0.ndim)\n",
        "print(d1.ndim)\n",
        "print(d2.ndim)\n",
        "print(d3.ndim)\n",
        "\n",
        "d5 = np.array([1, 2, 3, 4], ndmin=5)\n",
        "print(d5)\n"
      ],
      "metadata": {
        "colab": {
          "base_uri": "https://localhost:8080/"
        },
        "id": "eaZp8GthrpDG",
        "outputId": "16e002fd-19b7-411a-d4e5-da16289ae540"
      },
      "execution_count": 11,
      "outputs": [
        {
          "output_type": "stream",
          "name": "stdout",
          "text": [
            "0\n",
            "1\n",
            "2\n",
            "3\n",
            "[[[[[1 2 3 4]]]]]\n"
          ]
        }
      ]
    },
    {
      "cell_type": "code",
      "source": [
        "#Array Indexing\n",
        "\n",
        "print(d1[1])   # 1D array\n",
        "print(d2[1,1])  #2D array\n",
        "print(d3[0,0,1])   #Access the third element of the second array "
      ],
      "metadata": {
        "colab": {
          "base_uri": "https://localhost:8080/"
        },
        "id": "P9uxyxGqt-X2",
        "outputId": "af493f9c-e190-415a-8849-b0738809a455"
      },
      "execution_count": 23,
      "outputs": [
        {
          "output_type": "stream",
          "name": "stdout",
          "text": [
            "2\n",
            "4\n",
            "2\n"
          ]
        }
      ]
    },
    {
      "cell_type": "code",
      "source": [
        "#Slicing arrays\n",
        "\n",
        "# array[start:end:step] for 1D array\n",
        "\n",
        "s1 = np.array([1,2,3,4,5,6,7,8,9,10])\n",
        "print(s1[2:6])\n",
        "print(s1[1::2]) #step 2 for whole array\n",
        "print(s1[::-2]) #Nagative Slicing\n",
        "print()\n",
        "\n",
        "# array[row range, column range]\n",
        "s2 = np.array([[1,2,3,4,5,6,7,8,9,10],[11,12,13,14,15,16,17,18,19,20]])\n",
        "print(s2[1, 4:]) #printing 15 to 20\n",
        "print(s2[0:2, 2])"
      ],
      "metadata": {
        "colab": {
          "base_uri": "https://localhost:8080/"
        },
        "id": "rop1Kwlhwo6y",
        "outputId": "fa353364-b178-42e4-8c11-9b80fa68f152"
      },
      "execution_count": 36,
      "outputs": [
        {
          "output_type": "stream",
          "name": "stdout",
          "text": [
            "[3 4 5 6]\n",
            "[ 2  4  6  8 10]\n",
            "[10  8  6  4  2]\n",
            "\n",
            "[15 16 17 18 19 20]\n",
            "[ 3 13]\n"
          ]
        }
      ]
    },
    {
      "cell_type": "code",
      "source": [
        "\n"
      ],
      "metadata": {
        "id": "ketNypUS0owS"
      },
      "execution_count": 38,
      "outputs": []
    },
    {
      "cell_type": "code",
      "source": [],
      "metadata": {
        "id": "hv5N33nx8Dw8"
      },
      "execution_count": null,
      "outputs": []
    }
  ]
}