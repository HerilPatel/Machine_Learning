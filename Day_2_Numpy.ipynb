{
  "nbformat": 4,
  "nbformat_minor": 0,
  "metadata": {
    "colab": {
      "provenance": [],
      "authorship_tag": "ABX9TyNn+cK9PnC/SyXQAHdhwrtZ",
      "include_colab_link": true
    },
    "kernelspec": {
      "name": "python3",
      "display_name": "Python 3"
    },
    "language_info": {
      "name": "python"
    }
  },
  "cells": [
    {
      "cell_type": "markdown",
      "metadata": {
        "id": "view-in-github",
        "colab_type": "text"
      },
      "source": [
        "<a href=\"https://colab.research.google.com/github/HerilPatel/Machine_Learning/blob/main/Day-2_Numpy.ipynb\" target=\"_parent\"><img src=\"https://colab.research.google.com/assets/colab-badge.svg\" alt=\"Open In Colab\"/></a>"
      ]
    },
    {
      "cell_type": "code",
      "execution_count": 1,
      "metadata": {
        "id": "PjhgFUFenKP-"
      },
      "outputs": [],
      "source": []
    },
    {
      "cell_type": "markdown",
      "source": [
        "Day - 1 Numpy"
      ],
      "metadata": {
        "id": "AIaMrXFUKXNe"
      }
    },
    {
      "cell_type": "code",
      "source": [
        "import numpy as np"
      ],
      "metadata": {
        "id": "ROXP_mZGKUBo"
      },
      "execution_count": 2,
      "outputs": []
    },
    {
      "cell_type": "code",
      "source": [
        "print(np.__version__)"
      ],
      "metadata": {
        "colab": {
          "base_uri": "https://localhost:8080/"
        },
        "id": "rK8sKI91pg18",
        "outputId": "ca306a2a-50e9-4622-a52a-1a2e261f006a"
      },
      "execution_count": 3,
      "outputs": [
        {
          "output_type": "stream",
          "name": "stdout",
          "text": [
            "1.22.4\n"
          ]
        }
      ]
    },
    {
      "cell_type": "code",
      "source": [
        "#Creating  Numpy Array/List\n",
        "\n",
        "arr_1 = np.array([1,2,3,4,5])\n",
        "print(arr_1)\n",
        "print(type(arr_1))"
      ],
      "metadata": {
        "colab": {
          "base_uri": "https://localhost:8080/"
        },
        "id": "gfy8bjVyprsd",
        "outputId": "41b80090-7ea5-40ce-e900-7a99c28a2d6e"
      },
      "execution_count": 4,
      "outputs": [
        {
          "output_type": "stream",
          "name": "stdout",
          "text": [
            "[1 2 3 4 5]\n",
            "<class 'numpy.ndarray'>\n"
          ]
        }
      ]
    },
    {
      "cell_type": "code",
      "source": [
        "#Passing Tuple to Convert into array\n",
        "\n",
        "tpl = (1,2,3,4)\n",
        "arr_2 = np.array(tpl)\n",
        "print(arr_2)\n",
        "print(type(arr_2))"
      ],
      "metadata": {
        "colab": {
          "base_uri": "https://localhost:8080/"
        },
        "id": "OsMFgq4-qmrN",
        "outputId": "a612de7c-361e-4dd8-fb0a-3ccc465ed089"
      },
      "execution_count": 5,
      "outputs": [
        {
          "output_type": "stream",
          "name": "stdout",
          "text": [
            "[1 2 3 4]\n",
            "<class 'numpy.ndarray'>\n"
          ]
        }
      ]
    },
    {
      "cell_type": "code",
      "source": [
        "#Dimentionality of the Array.\n",
        "\n",
        "d0 = np.array(1)\n",
        "d1 = np.array([1,2])\n",
        "d2 = np.array([[1,2],[3,4]])\n",
        "d3 = np.array([[[1,2,3]],[[4,5,6]],[[7,8,9]]])\n",
        "\n",
        "print(d0.ndim)\n",
        "print(d1.ndim)\n",
        "print(d2.ndim)\n",
        "print(d3.ndim)\n",
        "\n",
        "d5 = np.array([1, 2, 3, 4], ndmin=5)\n",
        "print(d5)\n"
      ],
      "metadata": {
        "colab": {
          "base_uri": "https://localhost:8080/"
        },
        "id": "eaZp8GthrpDG",
        "outputId": "6c1088d7-ff28-4675-e5cf-43a627470a51"
      },
      "execution_count": 6,
      "outputs": [
        {
          "output_type": "stream",
          "name": "stdout",
          "text": [
            "0\n",
            "1\n",
            "2\n",
            "3\n",
            "[[[[[1 2 3 4]]]]]\n"
          ]
        }
      ]
    },
    {
      "cell_type": "code",
      "source": [
        "#Array Indexing\n",
        "\n",
        "print(d1[1])   # 1D array\n",
        "print(d2[1,1])  #2D array\n",
        "print(d3[0,0,1])   #Access the third element of the second array "
      ],
      "metadata": {
        "colab": {
          "base_uri": "https://localhost:8080/"
        },
        "id": "P9uxyxGqt-X2",
        "outputId": "94d67287-51e2-4635-a0d9-bed0159c7ce2"
      },
      "execution_count": 7,
      "outputs": [
        {
          "output_type": "stream",
          "name": "stdout",
          "text": [
            "2\n",
            "4\n",
            "2\n"
          ]
        }
      ]
    },
    {
      "cell_type": "code",
      "source": [
        "#Slicing arrays\n",
        "\n",
        "# array[start:end:step] for 1D array\n",
        "\n",
        "s1 = np.array([1,2,3,4,5,6,7,8,9,10])\n",
        "print(s1[2:6])\n",
        "print(s1[1::2]) #step 2 for whole array\n",
        "print(s1[::-2]) #Nagative Slicing\n",
        "print()\n",
        "\n",
        "# array[row range, column range]\n",
        "s2 = np.array([[1,2,3,4,5,6,7,8,9,10],[11,12,13,14,15,16,17,18,19,20]])\n",
        "print(s2[1, 4:]) #printing 15 to 20\n",
        "print(s2[0:2, 2])"
      ],
      "metadata": {
        "colab": {
          "base_uri": "https://localhost:8080/"
        },
        "id": "rop1Kwlhwo6y",
        "outputId": "49d2926a-6fe7-4e9a-c15f-f86a574b29cf"
      },
      "execution_count": 8,
      "outputs": [
        {
          "output_type": "stream",
          "name": "stdout",
          "text": [
            "[3 4 5 6]\n",
            "[ 2  4  6  8 10]\n",
            "[10  8  6  4  2]\n",
            "\n",
            "[15 16 17 18 19 20]\n",
            "[ 3 13]\n"
          ]
        }
      ]
    },
    {
      "cell_type": "code",
      "source": [
        "\n"
      ],
      "metadata": {
        "id": "ketNypUS0owS"
      },
      "execution_count": 8,
      "outputs": []
    },
    {
      "cell_type": "markdown",
      "source": [
        "Day - 2 Numpy Continue..."
      ],
      "metadata": {
        "id": "m392AUOrKex-"
      }
    },
    {
      "cell_type": "code",
      "source": [
        "# Datatype in numpy \n",
        "\n",
        "a1 = np.array([1,2,3,4,5,6,7,8,9,10])\n",
        "print(a1.dtype)\n",
        "\n",
        "a2 = np.array([11,12,13,14,15], dtype='S')\n",
        "print(a2.dtype)\n",
        "\n",
        "\n",
        "a3 = np.array([1, 2, 3, 4], dtype='i4')    #Create an array with data type 4 bytes integer:\n",
        "\n",
        "print(a3)\n",
        "print(a3.dtype)\n",
        "\n",
        "# Converting Data Type on Existing Arrays\n",
        "\n",
        "a2_1 = a2.astype('i')\n",
        "print(a2_1.dtype)\n",
        "\n",
        "a4 = np.array([1.1,2.2,3.3,4.4,5.5,6.6,7.7,8.8,9.9,0.0])\n",
        "print(\"Before Converting: \",a4.dtype)\n",
        "a4_1 = a4.astype('int')\n",
        "print(\"After Converting: \",a4_1.dtype)\n",
        "print(a4)\n",
        "print(a4_1)\n",
        "a4_2 = a4.astype('bool')\n",
        "print(a4_2)\n",
        "\n"
      ],
      "metadata": {
        "id": "hv5N33nx8Dw8",
        "colab": {
          "base_uri": "https://localhost:8080/"
        },
        "outputId": "8485fbcc-7a6f-4563-ade5-1f2c0e5f1c23"
      },
      "execution_count": 9,
      "outputs": [
        {
          "output_type": "stream",
          "name": "stdout",
          "text": [
            "int64\n",
            "|S2\n",
            "[1 2 3 4]\n",
            "int32\n",
            "int32\n",
            "Before Converting:  float64\n",
            "After Converting:  int64\n",
            "[1.1 2.2 3.3 4.4 5.5 6.6 7.7 8.8 9.9 0. ]\n",
            "[1 2 3 4 5 6 7 8 9 0]\n",
            "[ True  True  True  True  True  True  True  True  True False]\n"
          ]
        }
      ]
    },
    {
      "cell_type": "code",
      "source": [
        "# array Copy vs View\n",
        "\n",
        "org = np.array([11,22,33,44,55,66])\n",
        "cp = org.copy()\n",
        "vw = org.view()\n",
        "print(org,\"\\n\",cp)\n",
        "\n",
        "''' Every NumPy array has the attribute base that returns None if the array owns the data.Otherwise, the base  attribute refers to the original object.''' \n",
        "\n",
        "print(org.base)\n",
        "print(cp.base)\n",
        "print(vw.base)"
      ],
      "metadata": {
        "colab": {
          "base_uri": "https://localhost:8080/"
        },
        "id": "aYWo0F8hMGqL",
        "outputId": "25247198-51f3-4d19-9edb-599a93957e17"
      },
      "execution_count": 10,
      "outputs": [
        {
          "output_type": "stream",
          "name": "stdout",
          "text": [
            "[11 22 33 44 55 66] \n",
            " [11 22 33 44 55 66]\n",
            "None\n",
            "None\n",
            "[11 22 33 44 55 66]\n"
          ]
        }
      ]
    },
    {
      "cell_type": "code",
      "source": [
        "# Shape of the Array\n",
        "\n",
        "d0 = np.array(1)\n",
        "d1 = np.array([1,2])\n",
        "d2 = np.array([[1,2],[3,4]])\n",
        "d3 = np.array([[[1,2,3]],[[4,5,6]],[[7,8,9]]])\n",
        "d3_1 = np.array(\n",
        "\n",
        "   [ \n",
        "    [[1,1,1],[1,1,1],[1,1,1]],\n",
        "    [[2,2,2],[2,2,2],[2,2,2]],\n",
        "    [[3,3,3],[3,3,3],[3,3,3]],\n",
        "   ]\n",
        ")\n",
        "\n",
        "print(d0.shape)\n",
        "print(d1.shape)\n",
        "print(d2.shape)\n",
        "print(d3.shape)\n",
        "print(d3_1.shape)\n",
        "\n"
      ],
      "metadata": {
        "colab": {
          "base_uri": "https://localhost:8080/"
        },
        "id": "MCQPGa3dY_Z3",
        "outputId": "2d0ff619-e91f-4726-b8f4-b36c79dfa42b"
      },
      "execution_count": 11,
      "outputs": [
        {
          "output_type": "stream",
          "name": "stdout",
          "text": [
            "()\n",
            "(2,)\n",
            "(2, 2)\n",
            "(3, 1, 3)\n",
            "(3, 3, 3)\n"
          ]
        }
      ]
    },
    {
      "cell_type": "code",
      "source": [
        "# Reshaping the array\n",
        "\n",
        "arr = np.array([1, 2, 3, 4, 5, 6, 7, 8])\n",
        "arr1 = np.array([11,22,33,44,55,66,77,88,99])\n",
        "n_a2 = arr1.reshape(3,3)\n",
        "print(n_a2)\n",
        "n_a = arr.reshape(4,-1)\n",
        "print(n_a)"
      ],
      "metadata": {
        "colab": {
          "base_uri": "https://localhost:8080/"
        },
        "id": "2YHxis4CaM8p",
        "outputId": "8396f0c3-8175-43a8-8b1c-e698eb8b4e76"
      },
      "execution_count": 12,
      "outputs": [
        {
          "output_type": "stream",
          "name": "stdout",
          "text": [
            "[[11 22 33]\n",
            " [44 55 66]\n",
            " [77 88 99]]\n",
            "[[1 2]\n",
            " [3 4]\n",
            " [5 6]\n",
            " [7 8]]\n"
          ]
        }
      ]
    },
    {
      "cell_type": "code",
      "source": [
        "for i in d3:\n",
        "  for j in i:\n",
        "    for k in j:\n",
        "      print(k)\n",
        "\n",
        "# Now do instead of above things.\n",
        "print()\n",
        "for i in np.nditer(d3):\n",
        "  print(i)"
      ],
      "metadata": {
        "colab": {
          "base_uri": "https://localhost:8080/"
        },
        "id": "pvLcGfFGq1_1",
        "outputId": "d38c11a1-23d4-4f7a-bd5a-9748342d41ae"
      },
      "execution_count": 13,
      "outputs": [
        {
          "output_type": "stream",
          "name": "stdout",
          "text": [
            "1\n",
            "2\n",
            "3\n",
            "4\n",
            "5\n",
            "6\n",
            "7\n",
            "8\n",
            "9\n",
            "\n",
            "1\n",
            "2\n",
            "3\n",
            "4\n",
            "5\n",
            "6\n",
            "7\n",
            "8\n",
            "9\n"
          ]
        }
      ]
    },
    {
      "cell_type": "code",
      "source": [
        "from numpy.core.multiarray import nditer\n",
        "#Iterating Array With Different Data Types\n",
        "\n",
        "a4 = np.array([1.1,2.2,3.3,4.4,5.5,6.6,7.7,8.8,9.9,0.0])\n",
        "\n",
        "for i in nditer(a4, flags=['buffered'], op_dtypes=['S']):\n",
        "  print(i)"
      ],
      "metadata": {
        "colab": {
          "base_uri": "https://localhost:8080/"
        },
        "id": "3UD--F6WvRoR",
        "outputId": "2c08ac71-0b32-447f-8551-04611671b35c"
      },
      "execution_count": 14,
      "outputs": [
        {
          "output_type": "stream",
          "name": "stdout",
          "text": [
            "b'1.1'\n",
            "b'2.2'\n",
            "b'3.3'\n",
            "b'4.4'\n",
            "b'5.5'\n",
            "b'6.6'\n",
            "b'7.7'\n",
            "b'8.8'\n",
            "b'9.9'\n",
            "b'0.0'\n"
          ]
        }
      ]
    },
    {
      "cell_type": "code",
      "source": [
        "# Array Join\n",
        "\n",
        "a1 = np.array([[11,22,33], [44,55,66]])\n",
        "a2 = np.array([[33,22,11], [44,55,66]])\n",
        "\n",
        "a_total = np.array((a1 + a2))\n",
        "print(a_total)\n",
        "\n",
        "print(\"Horizontal Concatinate: \",np.concatenate((a1,a2)))\n",
        "print(\"Vertical Concatinate: \",np.concatenate((a1,a2), axis = 1)) \n",
        "print()\n",
        "print(np.stack((a1,a2)))\n",
        "print(\"V: \",np.vstack((a1,a2)))\n",
        "print(\"H: \",np.hstack((a1,a2)))\n",
        "print(\"\\n\",np.dstack((a1,a2)))"
      ],
      "metadata": {
        "colab": {
          "base_uri": "https://localhost:8080/"
        },
        "id": "jXqCrNFf0IAN",
        "outputId": "0f8e29ae-1810-4464-db82-3cb1e569c9fa"
      },
      "execution_count": 31,
      "outputs": [
        {
          "output_type": "stream",
          "name": "stdout",
          "text": [
            "[[ 44  44  44]\n",
            " [ 88 110 132]]\n",
            "Horizontal Concatinate:  [[11 22 33]\n",
            " [44 55 66]\n",
            " [33 22 11]\n",
            " [44 55 66]]\n",
            "Vertical Concatinate:  [[11 22 33 33 22 11]\n",
            " [44 55 66 44 55 66]]\n",
            "\n",
            "[[[11 22 33]\n",
            "  [44 55 66]]\n",
            "\n",
            " [[33 22 11]\n",
            "  [44 55 66]]]\n",
            "V:  [[11 22 33]\n",
            " [44 55 66]\n",
            " [33 22 11]\n",
            " [44 55 66]]\n",
            "H:  [[11 22 33 33 22 11]\n",
            " [44 55 66 44 55 66]]\n",
            "\n",
            " [[[11 33]\n",
            "  [22 22]\n",
            "  [33 11]]\n",
            "\n",
            " [[44 44]\n",
            "  [55 55]\n",
            "  [66 66]]]\n"
          ]
        }
      ]
    },
    {
      "cell_type": "code",
      "source": [
        "# Array Split\n",
        "\n",
        "arr = np.array([1,2,3,4,5,6,7,8,9,10])\n",
        "arr_1 = np.array([[1, 2], [3, 4], [5, 6], [7, 8], [9, 10], [11, 12]])\n",
        "\n",
        "print(np.split(arr,5))\n",
        "print(np.array_split(arr, 6))\n",
        "print()\n",
        "print(np.array_split(arr_1,10))\n",
        "print()\n",
        "print(np.array_split(arr_1, 2, axis = 1))"
      ],
      "metadata": {
        "colab": {
          "base_uri": "https://localhost:8080/"
        },
        "id": "l_Qkr_S-y5Mk",
        "outputId": "e0b381d8-83bd-4d5c-fdb1-730a48fd7891"
      },
      "execution_count": 42,
      "outputs": [
        {
          "output_type": "stream",
          "name": "stdout",
          "text": [
            "[array([1, 2]), array([3, 4]), array([5, 6]), array([7, 8]), array([ 9, 10])]\n",
            "[array([1, 2]), array([3, 4]), array([5, 6]), array([7, 8]), array([9]), array([10])]\n",
            "\n",
            "[array([[1, 2]]), array([[3, 4]]), array([[5, 6]]), array([[7, 8]]), array([[ 9, 10]]), array([[11, 12]]), array([], shape=(0, 2), dtype=int64), array([], shape=(0, 2), dtype=int64), array([], shape=(0, 2), dtype=int64), array([], shape=(0, 2), dtype=int64)]\n",
            "\n",
            "[array([[ 1],\n",
            "       [ 3],\n",
            "       [ 5],\n",
            "       [ 7],\n",
            "       [ 9],\n",
            "       [11]]), array([[ 2],\n",
            "       [ 4],\n",
            "       [ 6],\n",
            "       [ 8],\n",
            "       [10],\n",
            "       [12]])]\n"
          ]
        }
      ]
    },
    {
      "cell_type": "code",
      "source": [],
      "metadata": {
        "id": "w_8sx4VF5xhn"
      },
      "execution_count": null,
      "outputs": []
    }
  ]
}
